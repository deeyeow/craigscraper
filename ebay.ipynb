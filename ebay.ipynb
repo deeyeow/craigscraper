{
 "cells": [
  {
   "cell_type": "markdown",
   "metadata": {},
   "source": [
    "# Ebay listings visualizer\n",
    "\n",
    "Visualize the spread of listings on Ebay."
   ]
  },
  {
   "cell_type": "code",
   "execution_count": 1,
   "metadata": {},
   "outputs": [],
   "source": [
    "import requests\n",
    "from bs4 import BeautifulSoup\n",
    "\n",
    "import numpy as np\n",
    "import pandas as pd\n",
    "import matplotlib.pyplot as plt\n",
    "import seaborn as sns"
   ]
  },
  {
   "cell_type": "code",
   "execution_count": 2,
   "metadata": {},
   "outputs": [
    {
     "output_type": "execute_result",
     "data": {
      "text/plain": [
       "'razer+blade+15+2070'"
      ]
     },
     "metadata": {},
     "execution_count": 2
    }
   ],
   "source": [
    "#search = 'razer blade 15 2070'\n",
    "search = input()\n",
    "search.replace(' ', '+')"
   ]
  },
  {
   "cell_type": "code",
   "execution_count": 3,
   "metadata": {},
   "outputs": [],
   "source": [
    "URL = 'https://www.ebay.com/sch/i.html?_from=R40&_nkw='\n",
    "modifier = '&_sacat=0&LH_TitleDesc=0&_ipg=200'"
   ]
  },
  {
   "cell_type": "code",
   "execution_count": 4,
   "metadata": {},
   "outputs": [],
   "source": [
    "page = requests.get(URL + search + modifier)"
   ]
  },
  {
   "cell_type": "code",
   "execution_count": 5,
   "metadata": {},
   "outputs": [],
   "source": [
    "soup = BeautifulSoup(page.content, 'html.parser')\n",
    "results = soup.find_all('li', {'class': 's-item s-item--watch-at-corner'})"
   ]
  },
  {
   "cell_type": "code",
   "execution_count": 6,
   "metadata": {},
   "outputs": [
    {
     "output_type": "stream",
     "name": "stdout",
     "text": [
      "RB Razer Blade 15 15.6\" 300Hz Intel i7-10875H Nvidia RTX 2070 Super 512GB SSD\n$1,829.99\nRazer Blade 15 - 15.6\" Full HD Intel Core i7 16GB RAM 512GB SSD RTX 2070\n$1,300.00\nNEW Razer Blade 15 15.6\" 240Hz Intel i7-9750H Nvidia RTX 2070 512GB SSD Laptop\n$1,699.99\nMercury White Razer Blade 15: Intel i7-9750H; NVIDIA GeForce RTX 2070\n$1,499.00\nRazer Blade 15 (2019) Advanced i7-9750H RTX 2070 Max-Q 240Hz + 2 Years RazerCare\n$1,749.99\nRazer Blade 15 - 300Hz - Intel i7-10875H - RTX 2070 Super - 16GB Ram - 512GB SSD\n$1,789.99\nOB Razer Blade 15 15.6\" 240Hz Intel i7-9750H Nvidia RTX 2070 512GB SSD Laptop\n$1,649.99\nRazer Blade 15 Advanced Gaming Intel i7-8750H 144Hz 256 GB SSD RTX 2070\n$1,499.99\nRazer Blade 15 Base - 15.6\" 4K OLED - i7 10th - RTX 2070 Max-Q - 16GB RAM 512GB\n$1,800.00\nRazor Blade 15 2070 Max-Q Core i7 9750H 16GB RAM 512GB SSD 15.6in Mercury\n$1,500.00\nRazer Blade 15 i7-9750H 2.6GHz 16GB 512GB GeForce RTX 2070 Max-Q Mercury White\n$1,725.00\nRazer Blade 15 15.6\" 240Hz Intel i7-9750H Nvidia RTX 2070 512GB SSD Laptop\n$1,299.00\nRazer Blade 15 Base Edition (Early 2020)- OLED 4K 60Hz - GeForce RTX 2070 Max-Q\n$1,999.99\nRazer Blade 15 i7-9750H 32GB 1TB RTX 2070 Max-Q - FHD 144Hz - 12 Month Warranty!\n$1,649.99\nRazer Blade 15 Base Edition i7-9750H 16GB 512GB SSD - RTX 2070 8GB - FHD 240Hz!\n$1,399.99\nNew ListingRazer Blade 15 15.6\" 300Hz Intel i7-10875H 16GB 512GB SSD NVIDIA RTX 2070 Super\n$1,819.99\nRB Razer Blade 15 15.6\" 144Hz Intel i7-10750H Nvidia RTX 2070 MAX-Q 512GB SSD\n$1,549.99\nRazer blade 15 ADVANCED, RTX 2070, 16gb ram, 256gb ssd, read description!\n$1,400.00\nRazer Blade 15 (Mid 2019) - Full HD 144Hz - RTX 2070 - 512 GB  - Mercury\n$1,934.99\nRazer Blade 15 Gaming laptop (Early 2020)- 4k - OLED - i7 - RTX 2070 - 512 GB\n$1,999.99\nNEW Razer Blade 15 15.6\" 144Hz Intel i7-8750H Nvidia RTX 2070 256GB SSD Laptop\n$1,549.99\nThe New Razer Blade 15 - Full HD 240Hz - RTX 2070 - 512GB (Mercury)\n$2,649.99\nRazer Blade 15 Gaming laptop (Early 2020) - FHD - 144Hz - I7 - RTX 2070 - 512 GB\n$1,799.99\nRazer Blade 15\" Advanced Core i7-9750H 2.6GHz 64GB 1TB RTX 2070 RZ09-03017EM2\n$1,649.89\nRazer Blade 15 Advanced, Mercury White, 240Hz, i7 9th Gen, and RTX 2070 Max-Q\n$2,150.00\nRazer Blade 15 Advanced Mercury 240hz Intel i7-9750h RTX 2070 MAXQ 1TB SSD 32GB\n$2,069.99\nRazer Blade 15 Base - 15.6\" 4K OLED - i7 10th - RTX 2070 Max-Q - 16GB RAM 512GB\n$1,900.00\nRazer Blade 15 Gaming - Intel i7-8750H 144Hz, 16GB, 512G, SSD RTX 2070 Max-Q8GB \n$1,449.00\nRazer Blade 15 Gaming Intel i7-8750H 144Hz 16GB 512GB SSD RTX 2070 Max-Q CLEAN\n$1,469.99\nRazer Blade 15 Gaming laptop (Early 2020) -FHD - 300Hz - RTX 2070s - 512 GB\n$2,199.99\nRazer Blade 15 Advanced, Core i7 8750H, 16GB RAM, 512GB SSD, RTX 2070, 144Hz\n$1,899.00\nRazer Blade 15 - RTX 2070 - 512 GB SSD - 16 GB RAM - Core I7 - RZ09-0301 #M721\n$1,897.00\n15.4\" Razer Blade 15 Early 2020, i7-10750H 2.60GHz, 16GB, 512GB SSD, RTX 2070\n$1,839.95\nRazer Blade 15 Intel I7 Rtx 2070 MAX Q 16 Gb Ram 512 SSD BEST OFFER\n$2,200.00\n2019 RAZER Blade 15 - i7 9750H / RTX 2070 MAX-Q / 512Gb m.2 NvME / 16Gb DDR4\n$1,699.00\nRazer Blade 15 Gaming laptop (2020) - FHD - 144Hz - I7 - RTX 2070 - 512 GBGB\n$1,899.99\nRazer Blade 15 Base Edition - OLED 4K 60Hz - GeForce RTX 2070 Max-Q - Mercury\n$2,199.99\nRazer Blade 15 i7-10875H 16GB 512GB SSD 15.6\" FHD 300Hz NVIDIA RTX 2070 SUPER\n$2,049.00\nRazer Blade 15 rtx 2070 - 64 Gb Ram - CPU Intel Core I7-8750h Gaming Laptop\n$3,000.00\nRazer Blade 15 Core i7-10750H 16GB 512GB SSD 15.6\" UHD 4K OLED NVIDIA RTX 2070\n$1,979.00\nRazer Blade 15 Advanced Laptop i710875H RTX2070 SUPER Max Q 16GB RAM 512GB PS\n$2,780.99\nRazer Blade 15 Base Laptop i7 10750H 144Hz RTX 2070 MAX Q 16GB RAM 512GB SSD PS\n$2,479.99\nRazer Blade 15 Core i7-8750H 16GB RAM 256GB SSD 15.6\" FHD 144Hz  Nvidia RTX 2070\n$1,529.00\nThe New Razer Blade 15 - Full HD 240Hz - RTX 2070 - 256GB - Black Gaming Laptop\n$2,399.99\nRazer Blade 15 Gaming / Intel i7-9750H 240Hz 16GB 256GB SSD RTX 2070 Max-Q 8GB\n$1,749.99\nRazer Blade 15 FHD Gaming Laptop Intel i7-10750H 16GB 512GB SSD RTX 2070 WIN 10\n$1,749.99\nRazer Blade 15 Gaming Laptop (Mid 2019) - FHD - 512GB - RTX 2070 Mid 2019\n$2,159.99\nRazer Blade 15 15.6\" FHD 9th Gen i7-9750H 16GB RAM 512GB SSD NVIDIA RTX 2070\n$1,669.00\nRazer Blade 15 Advanced Laptop i710875H RTX2070 SUPER Max Q 16GB RAM 512GB SZ\n$2,761.19\nRazer Blade 15 Base Laptop OLED 4K i7 10750H RTX 2070 MAXQ 16GB RAM 512GB SSD SZ\n$2,582.04\nRazer Blade 15 Gaming / Intel i7-9750H 240Hz 16GB 512GB SSD RTX 2070 Max-Q 8GB\n$1,799.99\nRazer Blade 15 Base Laptop i7 10750H 144Hz RTX 2070 MAX Q 16GB RAM 512GB SSD SZ\n$2,460.06\nRazer Blade 15 Gaming Laptop (Mid 2019) - FHD - 256GB - RTX 2070 Mid 2019\n$1,934.99\nRazer Blade 15 (Late 2019) - Full HD 240Hz - RTX 2070 - 512GB - Black Late 2019\n$2,159.99\nRazer Blade 15 Gaming Laptop (Mid 2019) - FHD - 512GB - RTX 2070 Mid 2019\n$2,114.99\nRazer Blade 15 i7-9750H 2.6GHz 16GB 512GB GeForce RTX 2070 Max-Q RZ09-03017EM2\n$1,799.99\nRazer Blade 15 Base Laptop OLED 4K i7 10750H RTX 2070 MAXQ 16GB RAM 512GB SSD PS\n$2,602.99\nRazer Blade 15 Gaming Laptop•RTX 2070Max-Q 8 GB•230 w•W10H•16GB•HD 1\n$2,499.99\nRazer Blade 15 Gaming Laptop•230 w•1920 x 1080•RTX 2070SUPER Max-Q 8 GB\n$3,409.99\nRazer Blade15AdvancedModel(CH5NT/15.6/FHD-300HZ/i7-10875H/16GB/RTX2070S/512GB)-A\n$3,741.86\nThe New Razer Blade 15 - Full HD 240Hz - RTX 2070 - 512 GBGB (Black)\n$2,599.99\nRB Razer Blade 15 15.6\" 240Hz Intel i7-9750H Nvidia RTX 2070 512GB SSD Laptop\n$1,599.99\nOB Razer Blade 15 15.6\" 300Hz Intel i7-10875H Nvidia RTX 2070 Super 512GB SSD\n$1,899.99\nNew ListingRazer Blade 15 15.6\" 300Hz Intel i7-10875H 16GB 512GB SSD NVIDIA RTX 2070 Super\n$1,819.99\nRazer Blade 15 FHD Gaming Laptop Intel i7-10750H 16GB 512GB SSD RTX 2070 WIN 10\n$1,699.99\n\nTotal results: 65\n"
     ]
    }
   ],
   "source": [
    "names, prices = [], []\n",
    "counter = 0\n",
    "\n",
    "for result in results:\n",
    "    \n",
    "    # filter bids\n",
    "    if result.find('span', {'class': 's-item__bids s-item__bidCount'}) is not None: continue\n",
    "        \n",
    "    name = result.find('h3', {'class': 's-item__title'}).get_text()\n",
    "    price = result.find('span', {'class': 's-item__price'}).get_text()\n",
    "    if 'see price' in price.lower(): continue\n",
    "    print(name)\n",
    "    print(price)\n",
    "    names.append(name)\n",
    "    \n",
    "    for ch in [',', '$']:\n",
    "        if ch in price:\n",
    "            price = price.replace(ch, '')\n",
    "            \n",
    "    prices.append(float(price))\n",
    "    counter = counter + 1\n",
    "    \n",
    "print('\\nTotal results:', counter)"
   ]
  },
  {
   "cell_type": "code",
   "execution_count": 7,
   "metadata": {},
   "outputs": [
    {
     "output_type": "display_data",
     "data": {
      "text/plain": "<Figure size 1080x216 with 1 Axes>",
      "image/svg+xml": "<?xml version=\"1.0\" encoding=\"utf-8\" standalone=\"no\"?>\n<!DOCTYPE svg PUBLIC \"-//W3C//DTD SVG 1.1//EN\"\n  \"http://www.w3.org/Graphics/SVG/1.1/DTD/svg11.dtd\">\n<!-- Created with matplotlib (https://matplotlib.org/) -->\n<svg height=\"207.83625pt\" version=\"1.1\" viewBox=\"0 0 959.617188 207.83625\" width=\"959.617188pt\" xmlns=\"http://www.w3.org/2000/svg\" xmlns:xlink=\"http://www.w3.org/1999/xlink\">\n <metadata>\n  <rdf:RDF xmlns:cc=\"http://creativecommons.org/ns#\" xmlns:dc=\"http://purl.org/dc/elements/1.1/\" xmlns:rdf=\"http://www.w3.org/1999/02/22-rdf-syntax-ns#\">\n   <cc:Work>\n    <dc:type rdf:resource=\"http://purl.org/dc/dcmitype/StillImage\"/>\n    <dc:date>2020-11-13T02:38:09.141735</dc:date>\n    <dc:format>image/svg+xml</dc:format>\n    <dc:creator>\n     <cc:Agent>\n      <dc:title>Matplotlib v3.3.3, https://matplotlib.org/</dc:title>\n     </cc:Agent>\n    </dc:creator>\n   </cc:Work>\n  </rdf:RDF>\n </metadata>\n <defs>\n  <style type=\"text/css\">*{stroke-linecap:butt;stroke-linejoin:round;}</style>\n </defs>\n <g id=\"figure_1\">\n  <g id=\"patch_1\">\n   <path d=\"M 0 207.83625 \nL 959.617188 207.83625 \nL 959.617188 0 \nL 0 0 \nz\n\" style=\"fill:none;\"/>\n  </g>\n  <g id=\"axes_1\">\n   <g id=\"patch_2\">\n    <path d=\"M 115.417188 170.28 \nL 952.417187 170.28 \nL 952.417187 7.2 \nL 115.417188 7.2 \nz\n\" style=\"fill:#ffffff;\"/>\n   </g>\n   <g id=\"LineCollection_1\">\n    <path clip-path=\"url(#pef84cc3893)\" d=\"M 153.462642 208.83625 \nL 153.462642 88.74 \n\" style=\"fill:none;stroke:#0000ff;stroke-dasharray:0.5,0.825;stroke-dashoffset:0;stroke-width:0.5;\"/>\n    <path clip-path=\"url(#pef84cc3893)\" d=\"M 336.114146 208.83625 \nL 336.114146 88.74 \n\" style=\"fill:none;stroke:#0000ff;stroke-dasharray:0.5,0.825;stroke-dashoffset:0;stroke-width:0.5;\"/>\n    <path clip-path=\"url(#pef84cc3893)\" d=\"M 423.52558 208.83625 \nL 423.52558 88.74 \n\" style=\"fill:none;stroke:#0000ff;stroke-dasharray:0.5,0.825;stroke-dashoffset:0;stroke-width:0.5;\"/>\n    <path clip-path=\"url(#pef84cc3893)\" d=\"M 585.904008 208.83625 \nL 585.904008 88.74 \n\" style=\"fill:none;stroke:#0000ff;stroke-dasharray:0.5,0.825;stroke-dashoffset:0;stroke-width:0.5;\"/>\n    <path clip-path=\"url(#pef84cc3893)\" d=\"M 914.371733 208.83625 \nL 914.371733 88.74 \n\" style=\"fill:none;stroke:#0000ff;stroke-dasharray:0.5,0.825;stroke-dashoffset:0;stroke-width:0.5;\"/>\n    <path clip-path=\"url(#pef84cc3893)\" d=\"M 467.874646 208.83625 \nL 467.874646 88.74 \n\" style=\"fill:none;stroke:#0000ff;stroke-dasharray:0.5,0.825;stroke-dashoffset:0;stroke-width:0.5;\"/>\n   </g>\n   <g id=\"matplotlib.axis_1\">\n    <g id=\"xtick_1\">\n     <g id=\"line2d_1\">\n      <defs>\n       <path d=\"M 0 0 \nL 0 3.5 \n\" id=\"mcb7c720f1c\" style=\"stroke:#000000;stroke-width:0.8;\"/>\n      </defs>\n      <g>\n       <use style=\"stroke:#000000;stroke-width:0.8;\" x=\"153.462642\" xlink:href=\"#mcb7c720f1c\" y=\"170.28\"/>\n      </g>\n     </g>\n     <g id=\"text_1\">\n      <!-- 1299 -->\n      <g transform=\"translate(140.737642 184.878438)scale(0.1 -0.1)\">\n       <defs>\n        <path d=\"M 12.40625 8.296875 \nL 28.515625 8.296875 \nL 28.515625 63.921875 \nL 10.984375 60.40625 \nL 10.984375 69.390625 \nL 28.421875 72.90625 \nL 38.28125 72.90625 \nL 38.28125 8.296875 \nL 54.390625 8.296875 \nL 54.390625 0 \nL 12.40625 0 \nz\n\" id=\"DejaVuSans-49\"/>\n        <path d=\"M 19.1875 8.296875 \nL 53.609375 8.296875 \nL 53.609375 0 \nL 7.328125 0 \nL 7.328125 8.296875 \nQ 12.9375 14.109375 22.625 23.890625 \nQ 32.328125 33.6875 34.8125 36.53125 \nQ 39.546875 41.84375 41.421875 45.53125 \nQ 43.3125 49.21875 43.3125 52.78125 \nQ 43.3125 58.59375 39.234375 62.25 \nQ 35.15625 65.921875 28.609375 65.921875 \nQ 23.96875 65.921875 18.8125 64.3125 \nQ 13.671875 62.703125 7.8125 59.421875 \nL 7.8125 69.390625 \nQ 13.765625 71.78125 18.9375 73 \nQ 24.125 74.21875 28.421875 74.21875 \nQ 39.75 74.21875 46.484375 68.546875 \nQ 53.21875 62.890625 53.21875 53.421875 \nQ 53.21875 48.921875 51.53125 44.890625 \nQ 49.859375 40.875 45.40625 35.40625 \nQ 44.1875 33.984375 37.640625 27.21875 \nQ 31.109375 20.453125 19.1875 8.296875 \nz\n\" id=\"DejaVuSans-50\"/>\n        <path d=\"M 10.984375 1.515625 \nL 10.984375 10.5 \nQ 14.703125 8.734375 18.5 7.8125 \nQ 22.3125 6.890625 25.984375 6.890625 \nQ 35.75 6.890625 40.890625 13.453125 \nQ 46.046875 20.015625 46.78125 33.40625 \nQ 43.953125 29.203125 39.59375 26.953125 \nQ 35.25 24.703125 29.984375 24.703125 \nQ 19.046875 24.703125 12.671875 31.3125 \nQ 6.296875 37.9375 6.296875 49.421875 \nQ 6.296875 60.640625 12.9375 67.421875 \nQ 19.578125 74.21875 30.609375 74.21875 \nQ 43.265625 74.21875 49.921875 64.515625 \nQ 56.59375 54.828125 56.59375 36.375 \nQ 56.59375 19.140625 48.40625 8.859375 \nQ 40.234375 -1.421875 26.421875 -1.421875 \nQ 22.703125 -1.421875 18.890625 -0.6875 \nQ 15.09375 0.046875 10.984375 1.515625 \nz\nM 30.609375 32.421875 \nQ 37.25 32.421875 41.125 36.953125 \nQ 45.015625 41.5 45.015625 49.421875 \nQ 45.015625 57.28125 41.125 61.84375 \nQ 37.25 66.40625 30.609375 66.40625 \nQ 23.96875 66.40625 20.09375 61.84375 \nQ 16.21875 57.28125 16.21875 49.421875 \nQ 16.21875 41.5 20.09375 36.953125 \nQ 23.96875 32.421875 30.609375 32.421875 \nz\n\" id=\"DejaVuSans-57\"/>\n       </defs>\n       <use xlink:href=\"#DejaVuSans-49\"/>\n       <use x=\"63.623047\" xlink:href=\"#DejaVuSans-50\"/>\n       <use x=\"127.246094\" xlink:href=\"#DejaVuSans-57\"/>\n       <use x=\"190.869141\" xlink:href=\"#DejaVuSans-57\"/>\n      </g>\n     </g>\n    </g>\n    <g id=\"xtick_2\">\n     <g id=\"line2d_2\">\n      <g>\n       <use style=\"stroke:#000000;stroke-width:0.8;\" x=\"336.114146\" xlink:href=\"#mcb7c720f1c\" y=\"170.28\"/>\n      </g>\n     </g>\n     <g id=\"text_2\">\n      <!-- 1655 -->\n      <g transform=\"translate(323.389146 184.878438)scale(0.1 -0.1)\">\n       <defs>\n        <path d=\"M 33.015625 40.375 \nQ 26.375 40.375 22.484375 35.828125 \nQ 18.609375 31.296875 18.609375 23.390625 \nQ 18.609375 15.53125 22.484375 10.953125 \nQ 26.375 6.390625 33.015625 6.390625 \nQ 39.65625 6.390625 43.53125 10.953125 \nQ 47.40625 15.53125 47.40625 23.390625 \nQ 47.40625 31.296875 43.53125 35.828125 \nQ 39.65625 40.375 33.015625 40.375 \nz\nM 52.59375 71.296875 \nL 52.59375 62.3125 \nQ 48.875 64.0625 45.09375 64.984375 \nQ 41.3125 65.921875 37.59375 65.921875 \nQ 27.828125 65.921875 22.671875 59.328125 \nQ 17.53125 52.734375 16.796875 39.40625 \nQ 19.671875 43.65625 24.015625 45.921875 \nQ 28.375 48.1875 33.59375 48.1875 \nQ 44.578125 48.1875 50.953125 41.515625 \nQ 57.328125 34.859375 57.328125 23.390625 \nQ 57.328125 12.15625 50.6875 5.359375 \nQ 44.046875 -1.421875 33.015625 -1.421875 \nQ 20.359375 -1.421875 13.671875 8.265625 \nQ 6.984375 17.96875 6.984375 36.375 \nQ 6.984375 53.65625 15.1875 63.9375 \nQ 23.390625 74.21875 37.203125 74.21875 \nQ 40.921875 74.21875 44.703125 73.484375 \nQ 48.484375 72.75 52.59375 71.296875 \nz\n\" id=\"DejaVuSans-54\"/>\n        <path d=\"M 10.796875 72.90625 \nL 49.515625 72.90625 \nL 49.515625 64.59375 \nL 19.828125 64.59375 \nL 19.828125 46.734375 \nQ 21.96875 47.46875 24.109375 47.828125 \nQ 26.265625 48.1875 28.421875 48.1875 \nQ 40.625 48.1875 47.75 41.5 \nQ 54.890625 34.8125 54.890625 23.390625 \nQ 54.890625 11.625 47.5625 5.09375 \nQ 40.234375 -1.421875 26.90625 -1.421875 \nQ 22.3125 -1.421875 17.546875 -0.640625 \nQ 12.796875 0.140625 7.71875 1.703125 \nL 7.71875 11.625 \nQ 12.109375 9.234375 16.796875 8.0625 \nQ 21.484375 6.890625 26.703125 6.890625 \nQ 35.15625 6.890625 40.078125 11.328125 \nQ 45.015625 15.765625 45.015625 23.390625 \nQ 45.015625 31 40.078125 35.4375 \nQ 35.15625 39.890625 26.703125 39.890625 \nQ 22.75 39.890625 18.8125 39.015625 \nQ 14.890625 38.140625 10.796875 36.28125 \nz\n\" id=\"DejaVuSans-53\"/>\n       </defs>\n       <use xlink:href=\"#DejaVuSans-49\"/>\n       <use x=\"63.623047\" xlink:href=\"#DejaVuSans-54\"/>\n       <use x=\"127.246094\" xlink:href=\"#DejaVuSans-53\"/>\n       <use x=\"190.869141\" xlink:href=\"#DejaVuSans-53\"/>\n      </g>\n     </g>\n    </g>\n    <g id=\"xtick_3\">\n     <g id=\"line2d_3\">\n      <g>\n       <use style=\"stroke:#000000;stroke-width:0.8;\" x=\"423.52558\" xlink:href=\"#mcb7c720f1c\" y=\"170.28\"/>\n      </g>\n     </g>\n     <g id=\"text_3\">\n      <!-- 1825 -->\n      <g transform=\"translate(410.80058 184.878438)scale(0.1 -0.1)\">\n       <defs>\n        <path d=\"M 31.78125 34.625 \nQ 24.75 34.625 20.71875 30.859375 \nQ 16.703125 27.09375 16.703125 20.515625 \nQ 16.703125 13.921875 20.71875 10.15625 \nQ 24.75 6.390625 31.78125 6.390625 \nQ 38.8125 6.390625 42.859375 10.171875 \nQ 46.921875 13.96875 46.921875 20.515625 \nQ 46.921875 27.09375 42.890625 30.859375 \nQ 38.875 34.625 31.78125 34.625 \nz\nM 21.921875 38.8125 \nQ 15.578125 40.375 12.03125 44.71875 \nQ 8.5 49.078125 8.5 55.328125 \nQ 8.5 64.0625 14.71875 69.140625 \nQ 20.953125 74.21875 31.78125 74.21875 \nQ 42.671875 74.21875 48.875 69.140625 \nQ 55.078125 64.0625 55.078125 55.328125 \nQ 55.078125 49.078125 51.53125 44.71875 \nQ 48 40.375 41.703125 38.8125 \nQ 48.828125 37.15625 52.796875 32.3125 \nQ 56.78125 27.484375 56.78125 20.515625 \nQ 56.78125 9.90625 50.3125 4.234375 \nQ 43.84375 -1.421875 31.78125 -1.421875 \nQ 19.734375 -1.421875 13.25 4.234375 \nQ 6.78125 9.90625 6.78125 20.515625 \nQ 6.78125 27.484375 10.78125 32.3125 \nQ 14.796875 37.15625 21.921875 38.8125 \nz\nM 18.3125 54.390625 \nQ 18.3125 48.734375 21.84375 45.5625 \nQ 25.390625 42.390625 31.78125 42.390625 \nQ 38.140625 42.390625 41.71875 45.5625 \nQ 45.3125 48.734375 45.3125 54.390625 \nQ 45.3125 60.0625 41.71875 63.234375 \nQ 38.140625 66.40625 31.78125 66.40625 \nQ 25.390625 66.40625 21.84375 63.234375 \nQ 18.3125 60.0625 18.3125 54.390625 \nz\n\" id=\"DejaVuSans-56\"/>\n       </defs>\n       <use xlink:href=\"#DejaVuSans-49\"/>\n       <use x=\"63.623047\" xlink:href=\"#DejaVuSans-56\"/>\n       <use x=\"127.246094\" xlink:href=\"#DejaVuSans-50\"/>\n       <use x=\"190.869141\" xlink:href=\"#DejaVuSans-53\"/>\n      </g>\n     </g>\n    </g>\n    <g id=\"xtick_4\">\n     <g id=\"line2d_4\">\n      <g>\n       <use style=\"stroke:#000000;stroke-width:0.8;\" x=\"585.904008\" xlink:href=\"#mcb7c720f1c\" y=\"170.28\"/>\n      </g>\n     </g>\n     <g id=\"text_4\">\n      <!-- 2141 -->\n      <g transform=\"translate(573.179008 184.878438)scale(0.1 -0.1)\">\n       <defs>\n        <path d=\"M 37.796875 64.3125 \nL 12.890625 25.390625 \nL 37.796875 25.390625 \nz\nM 35.203125 72.90625 \nL 47.609375 72.90625 \nL 47.609375 25.390625 \nL 58.015625 25.390625 \nL 58.015625 17.1875 \nL 47.609375 17.1875 \nL 47.609375 0 \nL 37.796875 0 \nL 37.796875 17.1875 \nL 4.890625 17.1875 \nL 4.890625 26.703125 \nz\n\" id=\"DejaVuSans-52\"/>\n       </defs>\n       <use xlink:href=\"#DejaVuSans-50\"/>\n       <use x=\"63.623047\" xlink:href=\"#DejaVuSans-49\"/>\n       <use x=\"127.246094\" xlink:href=\"#DejaVuSans-52\"/>\n       <use x=\"190.869141\" xlink:href=\"#DejaVuSans-49\"/>\n      </g>\n     </g>\n    </g>\n    <g id=\"xtick_5\">\n     <g id=\"line2d_5\">\n      <g>\n       <use style=\"stroke:#000000;stroke-width:0.8;\" x=\"914.371733\" xlink:href=\"#mcb7c720f1c\" y=\"170.28\"/>\n      </g>\n     </g>\n     <g id=\"text_5\">\n      <!-- 2781 -->\n      <g transform=\"translate(901.646733 184.878438)scale(0.1 -0.1)\">\n       <defs>\n        <path d=\"M 8.203125 72.90625 \nL 55.078125 72.90625 \nL 55.078125 68.703125 \nL 28.609375 0 \nL 18.3125 0 \nL 43.21875 64.59375 \nL 8.203125 64.59375 \nz\n\" id=\"DejaVuSans-55\"/>\n       </defs>\n       <use xlink:href=\"#DejaVuSans-50\"/>\n       <use x=\"63.623047\" xlink:href=\"#DejaVuSans-55\"/>\n       <use x=\"127.246094\" xlink:href=\"#DejaVuSans-56\"/>\n       <use x=\"190.869141\" xlink:href=\"#DejaVuSans-49\"/>\n      </g>\n     </g>\n    </g>\n    <g id=\"xtick_6\">\n     <g id=\"line2d_6\">\n      <g>\n       <use style=\"stroke:#000000;stroke-width:0.8;\" x=\"467.874646\" xlink:href=\"#mcb7c720f1c\" y=\"170.28\"/>\n      </g>\n     </g>\n     <g id=\"text_6\">\n      <!-- 1911 -->\n      <g transform=\"translate(455.149646 184.878438)scale(0.1 -0.1)\">\n       <use xlink:href=\"#DejaVuSans-49\"/>\n       <use x=\"63.623047\" xlink:href=\"#DejaVuSans-57\"/>\n       <use x=\"127.246094\" xlink:href=\"#DejaVuSans-49\"/>\n       <use x=\"190.869141\" xlink:href=\"#DejaVuSans-49\"/>\n      </g>\n     </g>\n    </g>\n    <g id=\"text_7\">\n     <!-- Price -->\n     <g transform=\"translate(521.719531 198.556563)scale(0.1 -0.1)\">\n      <defs>\n       <path d=\"M 19.671875 64.796875 \nL 19.671875 37.40625 \nL 32.078125 37.40625 \nQ 38.96875 37.40625 42.71875 40.96875 \nQ 46.484375 44.53125 46.484375 51.125 \nQ 46.484375 57.671875 42.71875 61.234375 \nQ 38.96875 64.796875 32.078125 64.796875 \nz\nM 9.8125 72.90625 \nL 32.078125 72.90625 \nQ 44.34375 72.90625 50.609375 67.359375 \nQ 56.890625 61.8125 56.890625 51.125 \nQ 56.890625 40.328125 50.609375 34.8125 \nQ 44.34375 29.296875 32.078125 29.296875 \nL 19.671875 29.296875 \nL 19.671875 0 \nL 9.8125 0 \nz\n\" id=\"DejaVuSans-80\"/>\n       <path d=\"M 41.109375 46.296875 \nQ 39.59375 47.171875 37.8125 47.578125 \nQ 36.03125 48 33.890625 48 \nQ 26.265625 48 22.1875 43.046875 \nQ 18.109375 38.09375 18.109375 28.8125 \nL 18.109375 0 \nL 9.078125 0 \nL 9.078125 54.6875 \nL 18.109375 54.6875 \nL 18.109375 46.1875 \nQ 20.953125 51.171875 25.484375 53.578125 \nQ 30.03125 56 36.53125 56 \nQ 37.453125 56 38.578125 55.875 \nQ 39.703125 55.765625 41.0625 55.515625 \nz\n\" id=\"DejaVuSans-114\"/>\n       <path d=\"M 9.421875 54.6875 \nL 18.40625 54.6875 \nL 18.40625 0 \nL 9.421875 0 \nz\nM 9.421875 75.984375 \nL 18.40625 75.984375 \nL 18.40625 64.59375 \nL 9.421875 64.59375 \nz\n\" id=\"DejaVuSans-105\"/>\n       <path d=\"M 48.78125 52.59375 \nL 48.78125 44.1875 \nQ 44.96875 46.296875 41.140625 47.34375 \nQ 37.3125 48.390625 33.40625 48.390625 \nQ 24.65625 48.390625 19.8125 42.84375 \nQ 14.984375 37.3125 14.984375 27.296875 \nQ 14.984375 17.28125 19.8125 11.734375 \nQ 24.65625 6.203125 33.40625 6.203125 \nQ 37.3125 6.203125 41.140625 7.25 \nQ 44.96875 8.296875 48.78125 10.40625 \nL 48.78125 2.09375 \nQ 45.015625 0.34375 40.984375 -0.53125 \nQ 36.96875 -1.421875 32.421875 -1.421875 \nQ 20.0625 -1.421875 12.78125 6.34375 \nQ 5.515625 14.109375 5.515625 27.296875 \nQ 5.515625 40.671875 12.859375 48.328125 \nQ 20.21875 56 33.015625 56 \nQ 37.15625 56 41.109375 55.140625 \nQ 45.0625 54.296875 48.78125 52.59375 \nz\n\" id=\"DejaVuSans-99\"/>\n       <path d=\"M 56.203125 29.59375 \nL 56.203125 25.203125 \nL 14.890625 25.203125 \nQ 15.484375 15.921875 20.484375 11.0625 \nQ 25.484375 6.203125 34.421875 6.203125 \nQ 39.59375 6.203125 44.453125 7.46875 \nQ 49.3125 8.734375 54.109375 11.28125 \nL 54.109375 2.78125 \nQ 49.265625 0.734375 44.1875 -0.34375 \nQ 39.109375 -1.421875 33.890625 -1.421875 \nQ 20.796875 -1.421875 13.15625 6.1875 \nQ 5.515625 13.8125 5.515625 26.8125 \nQ 5.515625 40.234375 12.765625 48.109375 \nQ 20.015625 56 32.328125 56 \nQ 43.359375 56 49.78125 48.890625 \nQ 56.203125 41.796875 56.203125 29.59375 \nz\nM 47.21875 32.234375 \nQ 47.125 39.59375 43.09375 43.984375 \nQ 39.0625 48.390625 32.421875 48.390625 \nQ 24.90625 48.390625 20.390625 44.140625 \nQ 15.875 39.890625 15.1875 32.171875 \nz\n\" id=\"DejaVuSans-101\"/>\n      </defs>\n      <use xlink:href=\"#DejaVuSans-80\"/>\n      <use x=\"58.552734\" xlink:href=\"#DejaVuSans-114\"/>\n      <use x=\"99.666016\" xlink:href=\"#DejaVuSans-105\"/>\n      <use x=\"127.449219\" xlink:href=\"#DejaVuSans-99\"/>\n      <use x=\"182.429688\" xlink:href=\"#DejaVuSans-101\"/>\n     </g>\n    </g>\n   </g>\n   <g id=\"matplotlib.axis_2\">\n    <g id=\"ytick_1\">\n     <g id=\"line2d_7\">\n      <defs>\n       <path d=\"M 0 0 \nL -3.5 0 \n\" id=\"m566e3007c9\" style=\"stroke:#000000;stroke-width:0.8;\"/>\n      </defs>\n      <g>\n       <use style=\"stroke:#000000;stroke-width:0.8;\" x=\"115.417188\" xlink:href=\"#m566e3007c9\" y=\"88.74\"/>\n      </g>\n     </g>\n     <g id=\"text_8\">\n      <!-- razer blade 15 2070 -->\n      <g transform=\"translate(7.2 92.539219)scale(0.1 -0.1)\">\n       <defs>\n        <path d=\"M 34.28125 27.484375 \nQ 23.390625 27.484375 19.1875 25 \nQ 14.984375 22.515625 14.984375 16.5 \nQ 14.984375 11.71875 18.140625 8.90625 \nQ 21.296875 6.109375 26.703125 6.109375 \nQ 34.1875 6.109375 38.703125 11.40625 \nQ 43.21875 16.703125 43.21875 25.484375 \nL 43.21875 27.484375 \nz\nM 52.203125 31.203125 \nL 52.203125 0 \nL 43.21875 0 \nL 43.21875 8.296875 \nQ 40.140625 3.328125 35.546875 0.953125 \nQ 30.953125 -1.421875 24.3125 -1.421875 \nQ 15.921875 -1.421875 10.953125 3.296875 \nQ 6 8.015625 6 15.921875 \nQ 6 25.140625 12.171875 29.828125 \nQ 18.359375 34.515625 30.609375 34.515625 \nL 43.21875 34.515625 \nL 43.21875 35.40625 \nQ 43.21875 41.609375 39.140625 45 \nQ 35.0625 48.390625 27.6875 48.390625 \nQ 23 48.390625 18.546875 47.265625 \nQ 14.109375 46.140625 10.015625 43.890625 \nL 10.015625 52.203125 \nQ 14.9375 54.109375 19.578125 55.046875 \nQ 24.21875 56 28.609375 56 \nQ 40.484375 56 46.34375 49.84375 \nQ 52.203125 43.703125 52.203125 31.203125 \nz\n\" id=\"DejaVuSans-97\"/>\n        <path d=\"M 5.515625 54.6875 \nL 48.1875 54.6875 \nL 48.1875 46.484375 \nL 14.40625 7.171875 \nL 48.1875 7.171875 \nL 48.1875 0 \nL 4.296875 0 \nL 4.296875 8.203125 \nL 38.09375 47.515625 \nL 5.515625 47.515625 \nz\n\" id=\"DejaVuSans-122\"/>\n        <path id=\"DejaVuSans-32\"/>\n        <path d=\"M 48.6875 27.296875 \nQ 48.6875 37.203125 44.609375 42.84375 \nQ 40.53125 48.484375 33.40625 48.484375 \nQ 26.265625 48.484375 22.1875 42.84375 \nQ 18.109375 37.203125 18.109375 27.296875 \nQ 18.109375 17.390625 22.1875 11.75 \nQ 26.265625 6.109375 33.40625 6.109375 \nQ 40.53125 6.109375 44.609375 11.75 \nQ 48.6875 17.390625 48.6875 27.296875 \nz\nM 18.109375 46.390625 \nQ 20.953125 51.265625 25.265625 53.625 \nQ 29.59375 56 35.59375 56 \nQ 45.5625 56 51.78125 48.09375 \nQ 58.015625 40.1875 58.015625 27.296875 \nQ 58.015625 14.40625 51.78125 6.484375 \nQ 45.5625 -1.421875 35.59375 -1.421875 \nQ 29.59375 -1.421875 25.265625 0.953125 \nQ 20.953125 3.328125 18.109375 8.203125 \nL 18.109375 0 \nL 9.078125 0 \nL 9.078125 75.984375 \nL 18.109375 75.984375 \nz\n\" id=\"DejaVuSans-98\"/>\n        <path d=\"M 9.421875 75.984375 \nL 18.40625 75.984375 \nL 18.40625 0 \nL 9.421875 0 \nz\n\" id=\"DejaVuSans-108\"/>\n        <path d=\"M 45.40625 46.390625 \nL 45.40625 75.984375 \nL 54.390625 75.984375 \nL 54.390625 0 \nL 45.40625 0 \nL 45.40625 8.203125 \nQ 42.578125 3.328125 38.25 0.953125 \nQ 33.9375 -1.421875 27.875 -1.421875 \nQ 17.96875 -1.421875 11.734375 6.484375 \nQ 5.515625 14.40625 5.515625 27.296875 \nQ 5.515625 40.1875 11.734375 48.09375 \nQ 17.96875 56 27.875 56 \nQ 33.9375 56 38.25 53.625 \nQ 42.578125 51.265625 45.40625 46.390625 \nz\nM 14.796875 27.296875 \nQ 14.796875 17.390625 18.875 11.75 \nQ 22.953125 6.109375 30.078125 6.109375 \nQ 37.203125 6.109375 41.296875 11.75 \nQ 45.40625 17.390625 45.40625 27.296875 \nQ 45.40625 37.203125 41.296875 42.84375 \nQ 37.203125 48.484375 30.078125 48.484375 \nQ 22.953125 48.484375 18.875 42.84375 \nQ 14.796875 37.203125 14.796875 27.296875 \nz\n\" id=\"DejaVuSans-100\"/>\n        <path d=\"M 31.78125 66.40625 \nQ 24.171875 66.40625 20.328125 58.90625 \nQ 16.5 51.421875 16.5 36.375 \nQ 16.5 21.390625 20.328125 13.890625 \nQ 24.171875 6.390625 31.78125 6.390625 \nQ 39.453125 6.390625 43.28125 13.890625 \nQ 47.125 21.390625 47.125 36.375 \nQ 47.125 51.421875 43.28125 58.90625 \nQ 39.453125 66.40625 31.78125 66.40625 \nz\nM 31.78125 74.21875 \nQ 44.046875 74.21875 50.515625 64.515625 \nQ 56.984375 54.828125 56.984375 36.375 \nQ 56.984375 17.96875 50.515625 8.265625 \nQ 44.046875 -1.421875 31.78125 -1.421875 \nQ 19.53125 -1.421875 13.0625 8.265625 \nQ 6.59375 17.96875 6.59375 36.375 \nQ 6.59375 54.828125 13.0625 64.515625 \nQ 19.53125 74.21875 31.78125 74.21875 \nz\n\" id=\"DejaVuSans-48\"/>\n       </defs>\n       <use xlink:href=\"#DejaVuSans-114\"/>\n       <use x=\"41.113281\" xlink:href=\"#DejaVuSans-97\"/>\n       <use x=\"102.392578\" xlink:href=\"#DejaVuSans-122\"/>\n       <use x=\"154.882812\" xlink:href=\"#DejaVuSans-101\"/>\n       <use x=\"216.40625\" xlink:href=\"#DejaVuSans-114\"/>\n       <use x=\"257.519531\" xlink:href=\"#DejaVuSans-32\"/>\n       <use x=\"289.306641\" xlink:href=\"#DejaVuSans-98\"/>\n       <use x=\"352.783203\" xlink:href=\"#DejaVuSans-108\"/>\n       <use x=\"380.566406\" xlink:href=\"#DejaVuSans-97\"/>\n       <use x=\"441.845703\" xlink:href=\"#DejaVuSans-100\"/>\n       <use x=\"505.322266\" xlink:href=\"#DejaVuSans-101\"/>\n       <use x=\"566.845703\" xlink:href=\"#DejaVuSans-32\"/>\n       <use x=\"598.632812\" xlink:href=\"#DejaVuSans-49\"/>\n       <use x=\"662.255859\" xlink:href=\"#DejaVuSans-53\"/>\n       <use x=\"725.878906\" xlink:href=\"#DejaVuSans-32\"/>\n       <use x=\"757.666016\" xlink:href=\"#DejaVuSans-50\"/>\n       <use x=\"821.289062\" xlink:href=\"#DejaVuSans-48\"/>\n       <use x=\"884.912109\" xlink:href=\"#DejaVuSans-55\"/>\n       <use x=\"948.535156\" xlink:href=\"#DejaVuSans-48\"/>\n      </g>\n     </g>\n    </g>\n   </g>\n   <g id=\"line2d_8\">\n    <path clip-path=\"url(#pef84cc3893)\" d=\"M 336.114146 113.202 \nL 336.114146 64.278 \nL 585.904008 64.278 \nL 585.904008 113.202 \nL 336.114146 113.202 \n\" style=\"fill:none;stroke:#000000;stroke-linecap:square;\"/>\n   </g>\n   <g id=\"line2d_9\">\n    <path clip-path=\"url(#pef84cc3893)\" d=\"M 336.114146 88.74 \nL 153.462642 88.74 \n\" style=\"fill:none;stroke:#000000;stroke-linecap:square;\"/>\n   </g>\n   <g id=\"line2d_10\">\n    <path clip-path=\"url(#pef84cc3893)\" d=\"M 585.904008 88.74 \nL 914.371733 88.74 \n\" style=\"fill:none;stroke:#000000;stroke-linecap:square;\"/>\n   </g>\n   <g id=\"line2d_11\">\n    <path clip-path=\"url(#pef84cc3893)\" d=\"M 153.462642 100.971 \nL 153.462642 76.509 \n\" style=\"fill:none;stroke:#000000;stroke-linecap:square;\"/>\n   </g>\n   <g id=\"line2d_12\">\n    <path clip-path=\"url(#pef84cc3893)\" d=\"M 914.371733 100.971 \nL 914.371733 76.509 \n\" style=\"fill:none;stroke:#000000;stroke-linecap:square;\"/>\n   </g>\n   <g id=\"line2d_13\"/>\n   <g id=\"line2d_14\">\n    <path clip-path=\"url(#pef84cc3893)\" d=\"M 423.52558 113.202 \nL 423.52558 64.278 \n\" style=\"fill:none;stroke:#ff7f0e;stroke-linecap:square;\"/>\n   </g>\n   <g id=\"line2d_15\">\n    <defs>\n     <path d=\"M 0 -3 \nL -3 3 \nL 3 3 \nz\n\" id=\"md2a3556d12\" style=\"stroke:#2ca02c;stroke-linejoin:miter;\"/>\n    </defs>\n    <g clip-path=\"url(#pef84cc3893)\">\n     <use style=\"fill:#2ca02c;stroke:#2ca02c;stroke-linejoin:miter;\" x=\"467.874646\" xlink:href=\"#md2a3556d12\" y=\"88.74\"/>\n    </g>\n   </g>\n   <g id=\"patch_3\">\n    <path d=\"M 115.417188 170.28 \nL 115.417188 7.2 \n\" style=\"fill:none;stroke:#000000;stroke-linecap:square;stroke-linejoin:miter;stroke-width:0.8;\"/>\n   </g>\n   <g id=\"patch_4\">\n    <path d=\"M 952.417187 170.28 \nL 952.417187 7.2 \n\" style=\"fill:none;stroke:#000000;stroke-linecap:square;stroke-linejoin:miter;stroke-width:0.8;\"/>\n   </g>\n   <g id=\"patch_5\">\n    <path d=\"M 115.417188 170.28 \nL 952.417187 170.28 \n\" style=\"fill:none;stroke:#000000;stroke-linecap:square;stroke-linejoin:miter;stroke-width:0.8;\"/>\n   </g>\n   <g id=\"patch_6\">\n    <path d=\"M 115.417188 7.2 \nL 952.417187 7.2 \n\" style=\"fill:none;stroke:#000000;stroke-linecap:square;stroke-linejoin:miter;stroke-width:0.8;\"/>\n   </g>\n  </g>\n </g>\n <defs>\n  <clipPath id=\"pef84cc3893\">\n   <rect height=\"163.08\" width=\"837\" x=\"115.417188\" y=\"7.2\"/>\n  </clipPath>\n </defs>\n</svg>\n",
      "image/png": "[encoded data removed]"
     },
     "metadata": {
      "needs_background": "light"
     }
    }
   ],
   "source": [
    "df = pd.DataFrame(\n",
    "    {'Price': prices\n",
    "    })\n",
    "\n",
    "# remove outliers\n",
    "Q1 = df.quantile(0.25)\n",
    "Q3 = df.quantile(0.75)\n",
    "IQR = Q3 - Q1\n",
    "outliers = df[((df < (Q1 - 1.5 * IQR)) |(df > (Q3 + 1.5 * IQR))).any(axis=1)]\n",
    "df = df[~((df < (Q1 - 1.5 * IQR)) |(df > (Q3 + 1.5 * IQR))).any(axis=1)]\n",
    "\n",
    "# boxplot\n",
    "fig = plt.figure(1, figsize=(15, 3))\n",
    "ax = fig.add_subplot(111)\n",
    "bp = ax.boxplot(df, showmeans=True, manage_ticks=True, vert=False)\n",
    "\n",
    "ax.set_xlabel('Price')\n",
    "ax.set_yticks([1])\n",
    "ax.set_yticklabels([search])\n",
    "\n",
    "# recalculate quantiles\n",
    "quantiles = np.quantile(df, np.array([0.00, 0.25, 0.50, 0.75, 1.00]))\n",
    "quantiles = np.append(quantiles, df.mean()[0])\n",
    "ax.vlines(quantiles, [0] * quantiles.size, [1] * quantiles.size, color='b', ls=':', lw=0.5, zorder=0)\n",
    "ax.set_ylim(0.75, 1.25)\n",
    "ax.set_xticks(quantiles)\n",
    "plt.show()"
   ]
  },
  {
   "cell_type": "code",
   "execution_count": 8,
   "metadata": {},
   "outputs": [
    {
     "output_type": "execute_result",
     "data": {
      "text/plain": [
       "             Price\n",
       "count    62.000000\n",
       "mean   1911.366774\n",
       "std     372.656151\n",
       "min    1299.000000\n",
       "25%    1654.742500\n",
       "50%    1824.990000\n",
       "75%    2141.247500\n",
       "max    2780.990000"
      ],
      "text/html": "<div>\n<style scoped>\n    .dataframe tbody tr th:only-of-type {\n        vertical-align: middle;\n    }\n\n    .dataframe tbody tr th {\n        vertical-align: top;\n    }\n\n    .dataframe thead th {\n        text-align: right;\n    }\n</style>\n<table border=\"1\" class=\"dataframe\">\n  <thead>\n    <tr style=\"text-align: right;\">\n      <th></th>\n      <th>Price</th>\n    </tr>\n  </thead>\n  <tbody>\n    <tr>\n      <th>count</th>\n      <td>62.000000</td>\n    </tr>\n    <tr>\n      <th>mean</th>\n      <td>1911.366774</td>\n    </tr>\n    <tr>\n      <th>std</th>\n      <td>372.656151</td>\n    </tr>\n    <tr>\n      <th>min</th>\n      <td>1299.000000</td>\n    </tr>\n    <tr>\n      <th>25%</th>\n      <td>1654.742500</td>\n    </tr>\n    <tr>\n      <th>50%</th>\n      <td>1824.990000</td>\n    </tr>\n    <tr>\n      <th>75%</th>\n      <td>2141.247500</td>\n    </tr>\n    <tr>\n      <th>max</th>\n      <td>2780.990000</td>\n    </tr>\n  </tbody>\n</table>\n</div>"
     },
     "metadata": {},
     "execution_count": 8
    }
   ],
   "source": [
    "df.describe()"
   ]
  },
  {
   "cell_type": "code",
   "execution_count": 9,
   "metadata": {},
   "outputs": [
    {
     "output_type": "execute_result",
     "data": {
      "text/plain": [
       "      Price\n",
       "38  3000.00\n",
       "58  3409.99\n",
       "59  3741.86"
      ],
      "text/html": "<div>\n<style scoped>\n    .dataframe tbody tr th:only-of-type {\n        vertical-align: middle;\n    }\n\n    .dataframe tbody tr th {\n        vertical-align: top;\n    }\n\n    .dataframe thead th {\n        text-align: right;\n    }\n</style>\n<table border=\"1\" class=\"dataframe\">\n  <thead>\n    <tr style=\"text-align: right;\">\n      <th></th>\n      <th>Price</th>\n    </tr>\n  </thead>\n  <tbody>\n    <tr>\n      <th>38</th>\n      <td>3000.00</td>\n    </tr>\n    <tr>\n      <th>58</th>\n      <td>3409.99</td>\n    </tr>\n    <tr>\n      <th>59</th>\n      <td>3741.86</td>\n    </tr>\n  </tbody>\n</table>\n</div>"
     },
     "metadata": {},
     "execution_count": 9
    }
   ],
   "source": [
    "outliers"
   ]
  },
  {
   "cell_type": "code",
   "execution_count": 10,
   "metadata": {},
   "outputs": [],
   "source": [
    "def get_threshold(search):\n",
    "    '''Returns thresholds from file given search query'''\n",
    "\n",
    "    with open ('data/thresholds.txt') as f:\n",
    "        for line in f:\n",
    "            if search in line:\n",
    "                threshold_lo = int(f.readline())\n",
    "                threshold_hi = int(f.readline())\n",
    "                break\n",
    "    return threshold_lo, threshold_hi"
   ]
  },
  {
   "cell_type": "code",
   "execution_count": 11,
   "metadata": {},
   "outputs": [
    {
     "output_type": "stream",
     "name": "stdout",
     "text": [
      "2020 Razer Blade 15 Advanced\n$2,800\nRazer - Blade 15.6\" 4K Ultra HD Gaming Laptop - Intel Core i7 - 16GB Memory\n$1,700\n2\n"
     ]
    }
   ],
   "source": [
    "thresholds=(float('-inf'), float('inf'))\n",
    "thresholds = (800, 3000)\n",
    "\n",
    "# initialize lists\n",
    "prices, price_ints, names, links, badwords = [], [], [], [], []\n",
    "\n",
    "# get bad words\n",
    "f = open('data/avoid_keywords.txt')\n",
    "for line in f:\n",
    "    badwords.append(line.strip())\n",
    "f.close()\n",
    "\n",
    "\n",
    "num_pages = 1\n",
    "counter = 0\n",
    "\n",
    "for i in range(num_pages):\n",
    "    \n",
    "    URL = 'https://losangeles.craigslist.org/search/sss?query='\n",
    "    #search = 'razer+blade+15'\n",
    "    sortby = '&sort=rel'\n",
    "    if i > 0:\n",
    "        pgnum = 's=' + str(i * 120) + '&'\n",
    "    else:\n",
    "        pgnum = ''\n",
    "    page = requests.get(URL + pgnum + search + sortby)\n",
    "\n",
    "    # get soup\n",
    "    soup = BeautifulSoup(page.content, 'html.parser')\n",
    "    results = soup.find_all('li', {'class': 'result-row'})\n",
    "\n",
    "    for result in results:\n",
    "\n",
    "        # price of individual post\n",
    "        price = result.find('span', {'class': 'result-meta'}).find('span', {'class': 'result-price'}).get_text()\n",
    "\n",
    "        # strint to int\n",
    "        if len(price) == 1: continue\n",
    "        price_int = int(price.replace(',','')[1:])\n",
    "\n",
    "        # filter by threshold\n",
    "        if price_int < thresholds[0] or price_int > thresholds[1] or price_int == 0: continue\n",
    "\n",
    "        # name\n",
    "        name = result.find('h3', {'class': 'result-heading'}).find('a').get_text()\n",
    "        if len(name) == 0: continue\n",
    "\n",
    "        # filter by bad words\n",
    "        if any(badkw in name.lower() for badkw in badwords):\n",
    "            continue\n",
    "\n",
    "        # link\n",
    "        link = result.find('a').get('href')\n",
    "        if len(link) <= 0: continue\n",
    "\n",
    "        # add result to list\n",
    "        names.append(name)\n",
    "        prices.append(price)\n",
    "        price_ints.append(price_int)\n",
    "        links.append(link)\n",
    "        \n",
    "        counter = counter + 1\n",
    "\n",
    "\n",
    "for i in range(len(prices)):\n",
    "    print(names[i])\n",
    "    print(prices[i])\n",
    "    #print(links[i])\n",
    "\n",
    "print(counter)"
   ]
  },
  {
   "cell_type": "code",
   "execution_count": 12,
   "metadata": {},
   "outputs": [
    {
     "output_type": "display_data",
     "data": {
      "text/plain": "<Figure size 1080x216 with 1 Axes>",
      "image/svg+xml": "<?xml version=\"1.0\" encoding=\"utf-8\" standalone=\"no\"?>\n<!DOCTYPE svg PUBLIC \"-//W3C//DTD SVG 1.1//EN\"\n  \"http://www.w3.org/Graphics/SVG/1.1/DTD/svg11.dtd\">\n<!-- Created with matplotlib (https://matplotlib.org/) -->\n<svg height=\"207.83625pt\" version=\"1.1\" viewBox=\"0 0 959.617188 207.83625\" width=\"959.617188pt\" xmlns=\"http://www.w3.org/2000/svg\" xmlns:xlink=\"http://www.w3.org/1999/xlink\">\n <metadata>\n  <rdf:RDF xmlns:cc=\"http://creativecommons.org/ns#\" xmlns:dc=\"http://purl.org/dc/elements/1.1/\" xmlns:rdf=\"http://www.w3.org/1999/02/22-rdf-syntax-ns#\">\n   <cc:Work>\n    <dc:type rdf:resource=\"http://purl.org/dc/dcmitype/StillImage\"/>\n    <dc:date>2020-11-13T02:38:13.309880</dc:date>\n    <dc:format>image/svg+xml</dc:format>\n    <dc:creator>\n     <cc:Agent>\n      <dc:title>Matplotlib v3.3.3, https://matplotlib.org/</dc:title>\n     </cc:Agent>\n    </dc:creator>\n   </cc:Work>\n  </rdf:RDF>\n </metadata>\n <defs>\n  <style type=\"text/css\">*{stroke-linecap:butt;stroke-linejoin:round;}</style>\n </defs>\n <g id=\"figure_1\">\n  <g id=\"patch_1\">\n   <path d=\"M 0 207.83625 \nL 959.617188 207.83625 \nL 959.617188 0 \nL 0 0 \nz\n\" style=\"fill:none;\"/>\n  </g>\n  <g id=\"axes_1\">\n   <g id=\"patch_2\">\n    <path d=\"M 115.417188 170.28 \nL 952.417187 170.28 \nL 952.417187 7.2 \nL 115.417188 7.2 \nz\n\" style=\"fill:#ffffff;\"/>\n   </g>\n   <g id=\"LineCollection_1\">\n    <path clip-path=\"url(#pcf8ccded9c)\" d=\"M 153.462642 208.83625 \nL 153.462642 88.74 \n\" style=\"fill:none;stroke:#0000ff;stroke-dasharray:0.5,0.825;stroke-dashoffset:0;stroke-width:0.5;\"/>\n    <path clip-path=\"url(#pcf8ccded9c)\" d=\"M 343.689915 208.83625 \nL 343.689915 88.74 \n\" style=\"fill:none;stroke:#0000ff;stroke-dasharray:0.5,0.825;stroke-dashoffset:0;stroke-width:0.5;\"/>\n    <path clip-path=\"url(#pcf8ccded9c)\" d=\"M 533.917187 208.83625 \nL 533.917187 88.74 \n\" style=\"fill:none;stroke:#0000ff;stroke-dasharray:0.5,0.825;stroke-dashoffset:0;stroke-width:0.5;\"/>\n    <path clip-path=\"url(#pcf8ccded9c)\" d=\"M 724.14446 208.83625 \nL 724.14446 88.74 \n\" style=\"fill:none;stroke:#0000ff;stroke-dasharray:0.5,0.825;stroke-dashoffset:0;stroke-width:0.5;\"/>\n    <path clip-path=\"url(#pcf8ccded9c)\" d=\"M 914.371733 208.83625 \nL 914.371733 88.74 \n\" style=\"fill:none;stroke:#0000ff;stroke-dasharray:0.5,0.825;stroke-dashoffset:0;stroke-width:0.5;\"/>\n    <path clip-path=\"url(#pcf8ccded9c)\" d=\"M 533.917187 208.83625 \nL 533.917187 88.74 \n\" style=\"fill:none;stroke:#0000ff;stroke-dasharray:0.5,0.825;stroke-dashoffset:0;stroke-width:0.5;\"/>\n   </g>\n   <g id=\"matplotlib.axis_1\">\n    <g id=\"xtick_1\">\n     <g id=\"line2d_1\">\n      <defs>\n       <path d=\"M 0 0 \nL 0 3.5 \n\" id=\"mb554cfa88e\" style=\"stroke:#000000;stroke-width:0.8;\"/>\n      </defs>\n      <g>\n       <use style=\"stroke:#000000;stroke-width:0.8;\" x=\"153.462642\" xlink:href=\"#mb554cfa88e\" y=\"170.28\"/>\n      </g>\n     </g>\n     <g id=\"text_1\">\n      <!-- 1700 -->\n      <g transform=\"translate(140.737642 184.878438)scale(0.1 -0.1)\">\n       <defs>\n        <path d=\"M 12.40625 8.296875 \nL 28.515625 8.296875 \nL 28.515625 63.921875 \nL 10.984375 60.40625 \nL 10.984375 69.390625 \nL 28.421875 72.90625 \nL 38.28125 72.90625 \nL 38.28125 8.296875 \nL 54.390625 8.296875 \nL 54.390625 0 \nL 12.40625 0 \nz\n\" id=\"DejaVuSans-49\"/>\n        <path d=\"M 8.203125 72.90625 \nL 55.078125 72.90625 \nL 55.078125 68.703125 \nL 28.609375 0 \nL 18.3125 0 \nL 43.21875 64.59375 \nL 8.203125 64.59375 \nz\n\" id=\"DejaVuSans-55\"/>\n        <path d=\"M 31.78125 66.40625 \nQ 24.171875 66.40625 20.328125 58.90625 \nQ 16.5 51.421875 16.5 36.375 \nQ 16.5 21.390625 20.328125 13.890625 \nQ 24.171875 6.390625 31.78125 6.390625 \nQ 39.453125 6.390625 43.28125 13.890625 \nQ 47.125 21.390625 47.125 36.375 \nQ 47.125 51.421875 43.28125 58.90625 \nQ 39.453125 66.40625 31.78125 66.40625 \nz\nM 31.78125 74.21875 \nQ 44.046875 74.21875 50.515625 64.515625 \nQ 56.984375 54.828125 56.984375 36.375 \nQ 56.984375 17.96875 50.515625 8.265625 \nQ 44.046875 -1.421875 31.78125 -1.421875 \nQ 19.53125 -1.421875 13.0625 8.265625 \nQ 6.59375 17.96875 6.59375 36.375 \nQ 6.59375 54.828125 13.0625 64.515625 \nQ 19.53125 74.21875 31.78125 74.21875 \nz\n\" id=\"DejaVuSans-48\"/>\n       </defs>\n       <use xlink:href=\"#DejaVuSans-49\"/>\n       <use x=\"63.623047\" xlink:href=\"#DejaVuSans-55\"/>\n       <use x=\"127.246094\" xlink:href=\"#DejaVuSans-48\"/>\n       <use x=\"190.869141\" xlink:href=\"#DejaVuSans-48\"/>\n      </g>\n     </g>\n    </g>\n    <g id=\"xtick_2\">\n     <g id=\"line2d_2\">\n      <g>\n       <use style=\"stroke:#000000;stroke-width:0.8;\" x=\"343.689915\" xlink:href=\"#mb554cfa88e\" y=\"170.28\"/>\n      </g>\n     </g>\n     <g id=\"text_2\">\n      <!-- 1975 -->\n      <g transform=\"translate(330.964915 184.878438)scale(0.1 -0.1)\">\n       <defs>\n        <path d=\"M 10.984375 1.515625 \nL 10.984375 10.5 \nQ 14.703125 8.734375 18.5 7.8125 \nQ 22.3125 6.890625 25.984375 6.890625 \nQ 35.75 6.890625 40.890625 13.453125 \nQ 46.046875 20.015625 46.78125 33.40625 \nQ 43.953125 29.203125 39.59375 26.953125 \nQ 35.25 24.703125 29.984375 24.703125 \nQ 19.046875 24.703125 12.671875 31.3125 \nQ 6.296875 37.9375 6.296875 49.421875 \nQ 6.296875 60.640625 12.9375 67.421875 \nQ 19.578125 74.21875 30.609375 74.21875 \nQ 43.265625 74.21875 49.921875 64.515625 \nQ 56.59375 54.828125 56.59375 36.375 \nQ 56.59375 19.140625 48.40625 8.859375 \nQ 40.234375 -1.421875 26.421875 -1.421875 \nQ 22.703125 -1.421875 18.890625 -0.6875 \nQ 15.09375 0.046875 10.984375 1.515625 \nz\nM 30.609375 32.421875 \nQ 37.25 32.421875 41.125 36.953125 \nQ 45.015625 41.5 45.015625 49.421875 \nQ 45.015625 57.28125 41.125 61.84375 \nQ 37.25 66.40625 30.609375 66.40625 \nQ 23.96875 66.40625 20.09375 61.84375 \nQ 16.21875 57.28125 16.21875 49.421875 \nQ 16.21875 41.5 20.09375 36.953125 \nQ 23.96875 32.421875 30.609375 32.421875 \nz\n\" id=\"DejaVuSans-57\"/>\n        <path d=\"M 10.796875 72.90625 \nL 49.515625 72.90625 \nL 49.515625 64.59375 \nL 19.828125 64.59375 \nL 19.828125 46.734375 \nQ 21.96875 47.46875 24.109375 47.828125 \nQ 26.265625 48.1875 28.421875 48.1875 \nQ 40.625 48.1875 47.75 41.5 \nQ 54.890625 34.8125 54.890625 23.390625 \nQ 54.890625 11.625 47.5625 5.09375 \nQ 40.234375 -1.421875 26.90625 -1.421875 \nQ 22.3125 -1.421875 17.546875 -0.640625 \nQ 12.796875 0.140625 7.71875 1.703125 \nL 7.71875 11.625 \nQ 12.109375 9.234375 16.796875 8.0625 \nQ 21.484375 6.890625 26.703125 6.890625 \nQ 35.15625 6.890625 40.078125 11.328125 \nQ 45.015625 15.765625 45.015625 23.390625 \nQ 45.015625 31 40.078125 35.4375 \nQ 35.15625 39.890625 26.703125 39.890625 \nQ 22.75 39.890625 18.8125 39.015625 \nQ 14.890625 38.140625 10.796875 36.28125 \nz\n\" id=\"DejaVuSans-53\"/>\n       </defs>\n       <use xlink:href=\"#DejaVuSans-49\"/>\n       <use x=\"63.623047\" xlink:href=\"#DejaVuSans-57\"/>\n       <use x=\"127.246094\" xlink:href=\"#DejaVuSans-55\"/>\n       <use x=\"190.869141\" xlink:href=\"#DejaVuSans-53\"/>\n      </g>\n     </g>\n    </g>\n    <g id=\"xtick_3\">\n     <g id=\"line2d_3\">\n      <g>\n       <use style=\"stroke:#000000;stroke-width:0.8;\" x=\"533.917187\" xlink:href=\"#mb554cfa88e\" y=\"170.28\"/>\n      </g>\n     </g>\n     <g id=\"text_3\">\n      <!-- 2250 -->\n      <g transform=\"translate(521.192187 184.878438)scale(0.1 -0.1)\">\n       <defs>\n        <path d=\"M 19.1875 8.296875 \nL 53.609375 8.296875 \nL 53.609375 0 \nL 7.328125 0 \nL 7.328125 8.296875 \nQ 12.9375 14.109375 22.625 23.890625 \nQ 32.328125 33.6875 34.8125 36.53125 \nQ 39.546875 41.84375 41.421875 45.53125 \nQ 43.3125 49.21875 43.3125 52.78125 \nQ 43.3125 58.59375 39.234375 62.25 \nQ 35.15625 65.921875 28.609375 65.921875 \nQ 23.96875 65.921875 18.8125 64.3125 \nQ 13.671875 62.703125 7.8125 59.421875 \nL 7.8125 69.390625 \nQ 13.765625 71.78125 18.9375 73 \nQ 24.125 74.21875 28.421875 74.21875 \nQ 39.75 74.21875 46.484375 68.546875 \nQ 53.21875 62.890625 53.21875 53.421875 \nQ 53.21875 48.921875 51.53125 44.890625 \nQ 49.859375 40.875 45.40625 35.40625 \nQ 44.1875 33.984375 37.640625 27.21875 \nQ 31.109375 20.453125 19.1875 8.296875 \nz\n\" id=\"DejaVuSans-50\"/>\n       </defs>\n       <use xlink:href=\"#DejaVuSans-50\"/>\n       <use x=\"63.623047\" xlink:href=\"#DejaVuSans-50\"/>\n       <use x=\"127.246094\" xlink:href=\"#DejaVuSans-53\"/>\n       <use x=\"190.869141\" xlink:href=\"#DejaVuSans-48\"/>\n      </g>\n     </g>\n    </g>\n    <g id=\"xtick_4\">\n     <g id=\"line2d_4\">\n      <g>\n       <use style=\"stroke:#000000;stroke-width:0.8;\" x=\"724.14446\" xlink:href=\"#mb554cfa88e\" y=\"170.28\"/>\n      </g>\n     </g>\n     <g id=\"text_4\">\n      <!-- 2525 -->\n      <g transform=\"translate(711.41946 184.878438)scale(0.1 -0.1)\">\n       <use xlink:href=\"#DejaVuSans-50\"/>\n       <use x=\"63.623047\" xlink:href=\"#DejaVuSans-53\"/>\n       <use x=\"127.246094\" xlink:href=\"#DejaVuSans-50\"/>\n       <use x=\"190.869141\" xlink:href=\"#DejaVuSans-53\"/>\n      </g>\n     </g>\n    </g>\n    <g id=\"xtick_5\">\n     <g id=\"line2d_5\">\n      <g>\n       <use style=\"stroke:#000000;stroke-width:0.8;\" x=\"914.371733\" xlink:href=\"#mb554cfa88e\" y=\"170.28\"/>\n      </g>\n     </g>\n     <g id=\"text_5\">\n      <!-- 2800 -->\n      <g transform=\"translate(901.646733 184.878438)scale(0.1 -0.1)\">\n       <defs>\n        <path d=\"M 31.78125 34.625 \nQ 24.75 34.625 20.71875 30.859375 \nQ 16.703125 27.09375 16.703125 20.515625 \nQ 16.703125 13.921875 20.71875 10.15625 \nQ 24.75 6.390625 31.78125 6.390625 \nQ 38.8125 6.390625 42.859375 10.171875 \nQ 46.921875 13.96875 46.921875 20.515625 \nQ 46.921875 27.09375 42.890625 30.859375 \nQ 38.875 34.625 31.78125 34.625 \nz\nM 21.921875 38.8125 \nQ 15.578125 40.375 12.03125 44.71875 \nQ 8.5 49.078125 8.5 55.328125 \nQ 8.5 64.0625 14.71875 69.140625 \nQ 20.953125 74.21875 31.78125 74.21875 \nQ 42.671875 74.21875 48.875 69.140625 \nQ 55.078125 64.0625 55.078125 55.328125 \nQ 55.078125 49.078125 51.53125 44.71875 \nQ 48 40.375 41.703125 38.8125 \nQ 48.828125 37.15625 52.796875 32.3125 \nQ 56.78125 27.484375 56.78125 20.515625 \nQ 56.78125 9.90625 50.3125 4.234375 \nQ 43.84375 -1.421875 31.78125 -1.421875 \nQ 19.734375 -1.421875 13.25 4.234375 \nQ 6.78125 9.90625 6.78125 20.515625 \nQ 6.78125 27.484375 10.78125 32.3125 \nQ 14.796875 37.15625 21.921875 38.8125 \nz\nM 18.3125 54.390625 \nQ 18.3125 48.734375 21.84375 45.5625 \nQ 25.390625 42.390625 31.78125 42.390625 \nQ 38.140625 42.390625 41.71875 45.5625 \nQ 45.3125 48.734375 45.3125 54.390625 \nQ 45.3125 60.0625 41.71875 63.234375 \nQ 38.140625 66.40625 31.78125 66.40625 \nQ 25.390625 66.40625 21.84375 63.234375 \nQ 18.3125 60.0625 18.3125 54.390625 \nz\n\" id=\"DejaVuSans-56\"/>\n       </defs>\n       <use xlink:href=\"#DejaVuSans-50\"/>\n       <use x=\"63.623047\" xlink:href=\"#DejaVuSans-56\"/>\n       <use x=\"127.246094\" xlink:href=\"#DejaVuSans-48\"/>\n       <use x=\"190.869141\" xlink:href=\"#DejaVuSans-48\"/>\n      </g>\n     </g>\n    </g>\n    <g id=\"xtick_6\">\n     <g id=\"line2d_6\">\n      <g>\n       <use style=\"stroke:#000000;stroke-width:0.8;\" x=\"533.917187\" xlink:href=\"#mb554cfa88e\" y=\"170.28\"/>\n      </g>\n     </g>\n     <g id=\"text_6\">\n      <!-- 2250 -->\n      <g transform=\"translate(521.192187 184.878438)scale(0.1 -0.1)\">\n       <use xlink:href=\"#DejaVuSans-50\"/>\n       <use x=\"63.623047\" xlink:href=\"#DejaVuSans-50\"/>\n       <use x=\"127.246094\" xlink:href=\"#DejaVuSans-53\"/>\n       <use x=\"190.869141\" xlink:href=\"#DejaVuSans-48\"/>\n      </g>\n     </g>\n    </g>\n    <g id=\"text_7\">\n     <!-- Price -->\n     <g transform=\"translate(521.719531 198.556563)scale(0.1 -0.1)\">\n      <defs>\n       <path d=\"M 19.671875 64.796875 \nL 19.671875 37.40625 \nL 32.078125 37.40625 \nQ 38.96875 37.40625 42.71875 40.96875 \nQ 46.484375 44.53125 46.484375 51.125 \nQ 46.484375 57.671875 42.71875 61.234375 \nQ 38.96875 64.796875 32.078125 64.796875 \nz\nM 9.8125 72.90625 \nL 32.078125 72.90625 \nQ 44.34375 72.90625 50.609375 67.359375 \nQ 56.890625 61.8125 56.890625 51.125 \nQ 56.890625 40.328125 50.609375 34.8125 \nQ 44.34375 29.296875 32.078125 29.296875 \nL 19.671875 29.296875 \nL 19.671875 0 \nL 9.8125 0 \nz\n\" id=\"DejaVuSans-80\"/>\n       <path d=\"M 41.109375 46.296875 \nQ 39.59375 47.171875 37.8125 47.578125 \nQ 36.03125 48 33.890625 48 \nQ 26.265625 48 22.1875 43.046875 \nQ 18.109375 38.09375 18.109375 28.8125 \nL 18.109375 0 \nL 9.078125 0 \nL 9.078125 54.6875 \nL 18.109375 54.6875 \nL 18.109375 46.1875 \nQ 20.953125 51.171875 25.484375 53.578125 \nQ 30.03125 56 36.53125 56 \nQ 37.453125 56 38.578125 55.875 \nQ 39.703125 55.765625 41.0625 55.515625 \nz\n\" id=\"DejaVuSans-114\"/>\n       <path d=\"M 9.421875 54.6875 \nL 18.40625 54.6875 \nL 18.40625 0 \nL 9.421875 0 \nz\nM 9.421875 75.984375 \nL 18.40625 75.984375 \nL 18.40625 64.59375 \nL 9.421875 64.59375 \nz\n\" id=\"DejaVuSans-105\"/>\n       <path d=\"M 48.78125 52.59375 \nL 48.78125 44.1875 \nQ 44.96875 46.296875 41.140625 47.34375 \nQ 37.3125 48.390625 33.40625 48.390625 \nQ 24.65625 48.390625 19.8125 42.84375 \nQ 14.984375 37.3125 14.984375 27.296875 \nQ 14.984375 17.28125 19.8125 11.734375 \nQ 24.65625 6.203125 33.40625 6.203125 \nQ 37.3125 6.203125 41.140625 7.25 \nQ 44.96875 8.296875 48.78125 10.40625 \nL 48.78125 2.09375 \nQ 45.015625 0.34375 40.984375 -0.53125 \nQ 36.96875 -1.421875 32.421875 -1.421875 \nQ 20.0625 -1.421875 12.78125 6.34375 \nQ 5.515625 14.109375 5.515625 27.296875 \nQ 5.515625 40.671875 12.859375 48.328125 \nQ 20.21875 56 33.015625 56 \nQ 37.15625 56 41.109375 55.140625 \nQ 45.0625 54.296875 48.78125 52.59375 \nz\n\" id=\"DejaVuSans-99\"/>\n       <path d=\"M 56.203125 29.59375 \nL 56.203125 25.203125 \nL 14.890625 25.203125 \nQ 15.484375 15.921875 20.484375 11.0625 \nQ 25.484375 6.203125 34.421875 6.203125 \nQ 39.59375 6.203125 44.453125 7.46875 \nQ 49.3125 8.734375 54.109375 11.28125 \nL 54.109375 2.78125 \nQ 49.265625 0.734375 44.1875 -0.34375 \nQ 39.109375 -1.421875 33.890625 -1.421875 \nQ 20.796875 -1.421875 13.15625 6.1875 \nQ 5.515625 13.8125 5.515625 26.8125 \nQ 5.515625 40.234375 12.765625 48.109375 \nQ 20.015625 56 32.328125 56 \nQ 43.359375 56 49.78125 48.890625 \nQ 56.203125 41.796875 56.203125 29.59375 \nz\nM 47.21875 32.234375 \nQ 47.125 39.59375 43.09375 43.984375 \nQ 39.0625 48.390625 32.421875 48.390625 \nQ 24.90625 48.390625 20.390625 44.140625 \nQ 15.875 39.890625 15.1875 32.171875 \nz\n\" id=\"DejaVuSans-101\"/>\n      </defs>\n      <use xlink:href=\"#DejaVuSans-80\"/>\n      <use x=\"58.552734\" xlink:href=\"#DejaVuSans-114\"/>\n      <use x=\"99.666016\" xlink:href=\"#DejaVuSans-105\"/>\n      <use x=\"127.449219\" xlink:href=\"#DejaVuSans-99\"/>\n      <use x=\"182.429688\" xlink:href=\"#DejaVuSans-101\"/>\n     </g>\n    </g>\n   </g>\n   <g id=\"matplotlib.axis_2\">\n    <g id=\"ytick_1\">\n     <g id=\"line2d_7\">\n      <defs>\n       <path d=\"M 0 0 \nL -3.5 0 \n\" id=\"mc8021e4223\" style=\"stroke:#000000;stroke-width:0.8;\"/>\n      </defs>\n      <g>\n       <use style=\"stroke:#000000;stroke-width:0.8;\" x=\"115.417188\" xlink:href=\"#mc8021e4223\" y=\"88.74\"/>\n      </g>\n     </g>\n     <g id=\"text_8\">\n      <!-- razer blade 15 2070 -->\n      <g transform=\"translate(7.2 92.539219)scale(0.1 -0.1)\">\n       <defs>\n        <path d=\"M 34.28125 27.484375 \nQ 23.390625 27.484375 19.1875 25 \nQ 14.984375 22.515625 14.984375 16.5 \nQ 14.984375 11.71875 18.140625 8.90625 \nQ 21.296875 6.109375 26.703125 6.109375 \nQ 34.1875 6.109375 38.703125 11.40625 \nQ 43.21875 16.703125 43.21875 25.484375 \nL 43.21875 27.484375 \nz\nM 52.203125 31.203125 \nL 52.203125 0 \nL 43.21875 0 \nL 43.21875 8.296875 \nQ 40.140625 3.328125 35.546875 0.953125 \nQ 30.953125 -1.421875 24.3125 -1.421875 \nQ 15.921875 -1.421875 10.953125 3.296875 \nQ 6 8.015625 6 15.921875 \nQ 6 25.140625 12.171875 29.828125 \nQ 18.359375 34.515625 30.609375 34.515625 \nL 43.21875 34.515625 \nL 43.21875 35.40625 \nQ 43.21875 41.609375 39.140625 45 \nQ 35.0625 48.390625 27.6875 48.390625 \nQ 23 48.390625 18.546875 47.265625 \nQ 14.109375 46.140625 10.015625 43.890625 \nL 10.015625 52.203125 \nQ 14.9375 54.109375 19.578125 55.046875 \nQ 24.21875 56 28.609375 56 \nQ 40.484375 56 46.34375 49.84375 \nQ 52.203125 43.703125 52.203125 31.203125 \nz\n\" id=\"DejaVuSans-97\"/>\n        <path d=\"M 5.515625 54.6875 \nL 48.1875 54.6875 \nL 48.1875 46.484375 \nL 14.40625 7.171875 \nL 48.1875 7.171875 \nL 48.1875 0 \nL 4.296875 0 \nL 4.296875 8.203125 \nL 38.09375 47.515625 \nL 5.515625 47.515625 \nz\n\" id=\"DejaVuSans-122\"/>\n        <path id=\"DejaVuSans-32\"/>\n        <path d=\"M 48.6875 27.296875 \nQ 48.6875 37.203125 44.609375 42.84375 \nQ 40.53125 48.484375 33.40625 48.484375 \nQ 26.265625 48.484375 22.1875 42.84375 \nQ 18.109375 37.203125 18.109375 27.296875 \nQ 18.109375 17.390625 22.1875 11.75 \nQ 26.265625 6.109375 33.40625 6.109375 \nQ 40.53125 6.109375 44.609375 11.75 \nQ 48.6875 17.390625 48.6875 27.296875 \nz\nM 18.109375 46.390625 \nQ 20.953125 51.265625 25.265625 53.625 \nQ 29.59375 56 35.59375 56 \nQ 45.5625 56 51.78125 48.09375 \nQ 58.015625 40.1875 58.015625 27.296875 \nQ 58.015625 14.40625 51.78125 6.484375 \nQ 45.5625 -1.421875 35.59375 -1.421875 \nQ 29.59375 -1.421875 25.265625 0.953125 \nQ 20.953125 3.328125 18.109375 8.203125 \nL 18.109375 0 \nL 9.078125 0 \nL 9.078125 75.984375 \nL 18.109375 75.984375 \nz\n\" id=\"DejaVuSans-98\"/>\n        <path d=\"M 9.421875 75.984375 \nL 18.40625 75.984375 \nL 18.40625 0 \nL 9.421875 0 \nz\n\" id=\"DejaVuSans-108\"/>\n        <path d=\"M 45.40625 46.390625 \nL 45.40625 75.984375 \nL 54.390625 75.984375 \nL 54.390625 0 \nL 45.40625 0 \nL 45.40625 8.203125 \nQ 42.578125 3.328125 38.25 0.953125 \nQ 33.9375 -1.421875 27.875 -1.421875 \nQ 17.96875 -1.421875 11.734375 6.484375 \nQ 5.515625 14.40625 5.515625 27.296875 \nQ 5.515625 40.1875 11.734375 48.09375 \nQ 17.96875 56 27.875 56 \nQ 33.9375 56 38.25 53.625 \nQ 42.578125 51.265625 45.40625 46.390625 \nz\nM 14.796875 27.296875 \nQ 14.796875 17.390625 18.875 11.75 \nQ 22.953125 6.109375 30.078125 6.109375 \nQ 37.203125 6.109375 41.296875 11.75 \nQ 45.40625 17.390625 45.40625 27.296875 \nQ 45.40625 37.203125 41.296875 42.84375 \nQ 37.203125 48.484375 30.078125 48.484375 \nQ 22.953125 48.484375 18.875 42.84375 \nQ 14.796875 37.203125 14.796875 27.296875 \nz\n\" id=\"DejaVuSans-100\"/>\n       </defs>\n       <use xlink:href=\"#DejaVuSans-114\"/>\n       <use x=\"41.113281\" xlink:href=\"#DejaVuSans-97\"/>\n       <use x=\"102.392578\" xlink:href=\"#DejaVuSans-122\"/>\n       <use x=\"154.882812\" xlink:href=\"#DejaVuSans-101\"/>\n       <use x=\"216.40625\" xlink:href=\"#DejaVuSans-114\"/>\n       <use x=\"257.519531\" xlink:href=\"#DejaVuSans-32\"/>\n       <use x=\"289.306641\" xlink:href=\"#DejaVuSans-98\"/>\n       <use x=\"352.783203\" xlink:href=\"#DejaVuSans-108\"/>\n       <use x=\"380.566406\" xlink:href=\"#DejaVuSans-97\"/>\n       <use x=\"441.845703\" xlink:href=\"#DejaVuSans-100\"/>\n       <use x=\"505.322266\" xlink:href=\"#DejaVuSans-101\"/>\n       <use x=\"566.845703\" xlink:href=\"#DejaVuSans-32\"/>\n       <use x=\"598.632812\" xlink:href=\"#DejaVuSans-49\"/>\n       <use x=\"662.255859\" xlink:href=\"#DejaVuSans-53\"/>\n       <use x=\"725.878906\" xlink:href=\"#DejaVuSans-32\"/>\n       <use x=\"757.666016\" xlink:href=\"#DejaVuSans-50\"/>\n       <use x=\"821.289062\" xlink:href=\"#DejaVuSans-48\"/>\n       <use x=\"884.912109\" xlink:href=\"#DejaVuSans-55\"/>\n       <use x=\"948.535156\" xlink:href=\"#DejaVuSans-48\"/>\n      </g>\n     </g>\n    </g>\n   </g>\n   <g id=\"line2d_8\">\n    <path clip-path=\"url(#pcf8ccded9c)\" d=\"M 343.689915 113.202 \nL 343.689915 64.278 \nL 724.14446 64.278 \nL 724.14446 113.202 \nL 343.689915 113.202 \n\" style=\"fill:none;stroke:#000000;stroke-linecap:square;\"/>\n   </g>\n   <g id=\"line2d_9\">\n    <path clip-path=\"url(#pcf8ccded9c)\" d=\"M 343.689915 88.74 \nL 153.462642 88.74 \n\" style=\"fill:none;stroke:#000000;stroke-linecap:square;\"/>\n   </g>\n   <g id=\"line2d_10\">\n    <path clip-path=\"url(#pcf8ccded9c)\" d=\"M 724.14446 88.74 \nL 914.371733 88.74 \n\" style=\"fill:none;stroke:#000000;stroke-linecap:square;\"/>\n   </g>\n   <g id=\"line2d_11\">\n    <path clip-path=\"url(#pcf8ccded9c)\" d=\"M 153.462642 100.971 \nL 153.462642 76.509 \n\" style=\"fill:none;stroke:#000000;stroke-linecap:square;\"/>\n   </g>\n   <g id=\"line2d_12\">\n    <path clip-path=\"url(#pcf8ccded9c)\" d=\"M 914.371733 100.971 \nL 914.371733 76.509 \n\" style=\"fill:none;stroke:#000000;stroke-linecap:square;\"/>\n   </g>\n   <g id=\"line2d_13\"/>\n   <g id=\"line2d_14\">\n    <path clip-path=\"url(#pcf8ccded9c)\" d=\"M 533.917187 113.202 \nL 533.917187 64.278 \n\" style=\"fill:none;stroke:#ff7f0e;stroke-linecap:square;\"/>\n   </g>\n   <g id=\"line2d_15\">\n    <defs>\n     <path d=\"M 0 -3 \nL -3 3 \nL 3 3 \nz\n\" id=\"mdeeaaf8b08\" style=\"stroke:#2ca02c;stroke-linejoin:miter;\"/>\n    </defs>\n    <g clip-path=\"url(#pcf8ccded9c)\">\n     <use style=\"fill:#2ca02c;stroke:#2ca02c;stroke-linejoin:miter;\" x=\"533.917187\" xlink:href=\"#mdeeaaf8b08\" y=\"88.74\"/>\n    </g>\n   </g>\n   <g id=\"patch_3\">\n    <path d=\"M 115.417188 170.28 \nL 115.417188 7.2 \n\" style=\"fill:none;stroke:#000000;stroke-linecap:square;stroke-linejoin:miter;stroke-width:0.8;\"/>\n   </g>\n   <g id=\"patch_4\">\n    <path d=\"M 952.417187 170.28 \nL 952.417187 7.2 \n\" style=\"fill:none;stroke:#000000;stroke-linecap:square;stroke-linejoin:miter;stroke-width:0.8;\"/>\n   </g>\n   <g id=\"patch_5\">\n    <path d=\"M 115.417187 170.28 \nL 952.417187 170.28 \n\" style=\"fill:none;stroke:#000000;stroke-linecap:square;stroke-linejoin:miter;stroke-width:0.8;\"/>\n   </g>\n   <g id=\"patch_6\">\n    <path d=\"M 115.417187 7.2 \nL 952.417187 7.2 \n\" style=\"fill:none;stroke:#000000;stroke-linecap:square;stroke-linejoin:miter;stroke-width:0.8;\"/>\n   </g>\n  </g>\n </g>\n <defs>\n  <clipPath id=\"pcf8ccded9c\">\n   <rect height=\"163.08\" width=\"837\" x=\"115.417188\" y=\"7.2\"/>\n  </clipPath>\n </defs>\n</svg>\n",
      "image/png": "[encoded data removed]"
     },
     "metadata": {
      "needs_background": "light"
     }
    }
   ],
   "source": [
    "df_cg = pd.DataFrame(\n",
    "    {'Price': price_ints\n",
    "    })\n",
    "\n",
    "# remove outliers\n",
    "Q1 = df_cg.quantile(0.25)\n",
    "Q3 = df_cg.quantile(0.75)\n",
    "IQR = Q3 - Q1\n",
    "outliers = df_cg[((df_cg < (Q1 - 1.5 * IQR)) |(df_cg > (Q3 + 1.5 * IQR))).any(axis=1)]\n",
    "df_cg = df_cg[~((df_cg < (Q1 - 1.5 * IQR)) |(df_cg > (Q3 + 1.5 * IQR))).any(axis=1)]\n",
    "\n",
    "# boxplot\n",
    "fig = plt.figure(1, figsize=(15, 3))\n",
    "ax = fig.add_subplot(111)\n",
    "bp = ax.boxplot(df_cg, showmeans=True, manage_ticks=True, vert=False)\n",
    "\n",
    "ax.set_xlabel('Price')\n",
    "ax.set_yticks([1])\n",
    "ax.set_yticklabels([search])\n",
    "\n",
    "# recalculate quantiles\n",
    "quantiles = np.quantile(df_cg, np.array([0.00, 0.25, 0.50, 0.75, 1.00]))\n",
    "quantiles = np.append(quantiles, df_cg.mean()[0])\n",
    "ax.vlines(quantiles, [0] * quantiles.size, [1] * quantiles.size, color='b', ls=':', lw=0.5, zorder=0)\n",
    "ax.set_ylim(0.75, 1.25)\n",
    "ax.set_xticks(quantiles)\n",
    "plt.show()"
   ]
  },
  {
   "cell_type": "code",
   "execution_count": 13,
   "metadata": {},
   "outputs": [
    {
     "output_type": "execute_result",
     "data": {
      "text/plain": [
       "             Price\n",
       "count     2.000000\n",
       "mean   2250.000000\n",
       "std     777.817459\n",
       "min    1700.000000\n",
       "25%    1975.000000\n",
       "50%    2250.000000\n",
       "75%    2525.000000\n",
       "max    2800.000000"
      ],
      "text/html": "<div>\n<style scoped>\n    .dataframe tbody tr th:only-of-type {\n        vertical-align: middle;\n    }\n\n    .dataframe tbody tr th {\n        vertical-align: top;\n    }\n\n    .dataframe thead th {\n        text-align: right;\n    }\n</style>\n<table border=\"1\" class=\"dataframe\">\n  <thead>\n    <tr style=\"text-align: right;\">\n      <th></th>\n      <th>Price</th>\n    </tr>\n  </thead>\n  <tbody>\n    <tr>\n      <th>count</th>\n      <td>2.000000</td>\n    </tr>\n    <tr>\n      <th>mean</th>\n      <td>2250.000000</td>\n    </tr>\n    <tr>\n      <th>std</th>\n      <td>777.817459</td>\n    </tr>\n    <tr>\n      <th>min</th>\n      <td>1700.000000</td>\n    </tr>\n    <tr>\n      <th>25%</th>\n      <td>1975.000000</td>\n    </tr>\n    <tr>\n      <th>50%</th>\n      <td>2250.000000</td>\n    </tr>\n    <tr>\n      <th>75%</th>\n      <td>2525.000000</td>\n    </tr>\n    <tr>\n      <th>max</th>\n      <td>2800.000000</td>\n    </tr>\n  </tbody>\n</table>\n</div>"
     },
     "metadata": {},
     "execution_count": 13
    }
   ],
   "source": [
    "df_cg.describe()"
   ]
  },
  {
   "cell_type": "code",
   "execution_count": 14,
   "metadata": {},
   "outputs": [
    {
     "output_type": "execute_result",
     "data": {
      "text/plain": [
       "Empty DataFrame\n",
       "Columns: [Price]\n",
       "Index: []"
      ],
      "text/html": "<div>\n<style scoped>\n    .dataframe tbody tr th:only-of-type {\n        vertical-align: middle;\n    }\n\n    .dataframe tbody tr th {\n        vertical-align: top;\n    }\n\n    .dataframe thead th {\n        text-align: right;\n    }\n</style>\n<table border=\"1\" class=\"dataframe\">\n  <thead>\n    <tr style=\"text-align: right;\">\n      <th></th>\n      <th>Price</th>\n    </tr>\n  </thead>\n  <tbody>\n  </tbody>\n</table>\n</div>"
     },
     "metadata": {},
     "execution_count": 14
    }
   ],
   "source": [
    "outliers"
   ]
  },
  {
   "cell_type": "code",
   "execution_count": 15,
   "metadata": {},
   "outputs": [
    {
     "output_type": "stream",
     "name": "stdout",
     "text": [
      "Average savings on craigslist vs ebay: -338.63322580645126\nPercent savings:  -17.716810314929155\n"
     ]
    }
   ],
   "source": [
    "save = df.mean()[0] - df_cg.mean()[0]\n",
    "print('Average savings on craigslist vs ebay:', save)\n",
    "print('Percent savings: ', save / df.mean()[0] * 100)"
   ]
  },
  {
   "cell_type": "code",
   "execution_count": null,
   "metadata": {},
   "outputs": [],
   "source": []
  }
 ],
 "metadata": {
  "kernelspec": {
   "display_name": "env",
   "language": "python",
   "name": "env"
  },
  "language_info": {
   "codemirror_mode": {
    "name": "ipython",
    "version": 3
   },
   "file_extension": ".py",
   "mimetype": "text/x-python",
   "name": "python",
   "nbconvert_exporter": "python",
   "pygments_lexer": "ipython3",
   "version": "3.8.5-final"
  }
 },
 "nbformat": 4,
 "nbformat_minor": 4
}